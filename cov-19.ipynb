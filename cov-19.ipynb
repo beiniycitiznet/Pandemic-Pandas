{
 "cells": [
  {
   "cell_type": "code",
   "execution_count": 1,
   "metadata": {},
   "outputs": [
    {
     "name": "stdout",
     "output_type": "stream",
     "text": [
      "# conda environments:\n",
      "#\n",
      "base                     /Users/beinnile/opt/anaconda3\n",
      "PythonData               /Users/beinnile/opt/anaconda3/envs/PythonData\n",
      "dsfs                     /Users/beinnile/opt/anaconda3/envs/dsfs\n",
      "gmaps                 *  /Users/beinnile/opt/anaconda3/envs/gmaps\n",
      "\n"
     ]
    }
   ],
   "source": [
    "!conda env list"
   ]
  },
  {
   "cell_type": "code",
   "execution_count": 18,
   "metadata": {},
   "outputs": [],
   "source": [
    "import requests\n",
    "from pprint import pprint\n",
    "import pandas as pd\n",
    "import matplotlib.pyplot as plt\n",
    "import gmaps\n",
    "from config import gkey\n",
    "from config import api_key"
   ]
  },
  {
   "cell_type": "code",
   "execution_count": 19,
   "metadata": {},
   "outputs": [
    {
     "name": "stdout",
     "output_type": "stream",
     "text": [
      "[{'death': 76617,\n",
      "  'hash': '94a5dcff7e4171ee6b9c9a1855b0b8e8620a3b89',\n",
      "  'hospitalized': 142861,\n",
      "  'hospitalizedCumulative': 142861,\n",
      "  'hospitalizedCurrently': 45199,\n",
      "  'inIcuCumulative': 5595,\n",
      "  'inIcuCurrently': 11708,\n",
      "  'lastModified': '2020-05-13T04:12:25.184Z',\n",
      "  'negative': 8277225,\n",
      "  'notes': 'NOTE: \"total\", \"posNeg\", \"hospitalized\" will be removed in the '\n",
      "           'future.',\n",
      "  'onVentilatorCumulative': 559,\n",
      "  'onVentilatorCurrently': 6615,\n",
      "  'pending': 1803,\n",
      "  'posNeg': 9637930,\n",
      "  'positive': 1360705,\n",
      "  'recovered': 230287,\n",
      "  'total': 9639733,\n",
      "  'totalTestResults': 9637930}]\n"
     ]
    }
   ],
   "source": [
    "url_cov = \"https://covidtracking.com\"\n",
    "current_data = \"/api/v1/us/current.json\"\n",
    "response_current = requests.get(url_cov+current_data).json()\n",
    "pprint(response_current)\n"
   ]
  },
  {
   "cell_type": "code",
   "execution_count": 20,
   "metadata": {},
   "outputs": [
    {
     "name": "stdout",
     "output_type": "stream",
     "text": [
      "[1, 3004, 47013, 105462, 189998, 664129, 1275916]\n"
     ]
    }
   ],
   "source": [
    "dates = [\"20200131\", \"20200313\", \"20200323\", \"20200327\", \"20200331\", \"20200416\", \"20200508\"]\n",
    "total = []\n",
    "for date in dates:\n",
    "    date_data = f\"/api/v1/us/{date}.json\"\n",
    "    response_date = requests.get(url_cov+date_data).json()\n",
    "    total_positive = response_date[\"positive\"]\n",
    "    total.append(total_positive)\n",
    "    \n",
    "print(total)"
   ]
  },
  {
   "cell_type": "code",
   "execution_count": 21,
   "metadata": {},
   "outputs": [
    {
     "data": {
      "text/html": [
       "<div>\n",
       "<style scoped>\n",
       "    .dataframe tbody tr th:only-of-type {\n",
       "        vertical-align: middle;\n",
       "    }\n",
       "\n",
       "    .dataframe tbody tr th {\n",
       "        vertical-align: top;\n",
       "    }\n",
       "\n",
       "    .dataframe thead th {\n",
       "        text-align: right;\n",
       "    }\n",
       "</style>\n",
       "<table border=\"1\" class=\"dataframe\">\n",
       "  <thead>\n",
       "    <tr style=\"text-align: right;\">\n",
       "      <th></th>\n",
       "      <th>Date</th>\n",
       "      <th>Total</th>\n",
       "    </tr>\n",
       "  </thead>\n",
       "  <tbody>\n",
       "    <tr>\n",
       "      <th>0</th>\n",
       "      <td>20200131</td>\n",
       "      <td>1</td>\n",
       "    </tr>\n",
       "    <tr>\n",
       "      <th>1</th>\n",
       "      <td>20200313</td>\n",
       "      <td>3004</td>\n",
       "    </tr>\n",
       "    <tr>\n",
       "      <th>2</th>\n",
       "      <td>20200323</td>\n",
       "      <td>47013</td>\n",
       "    </tr>\n",
       "    <tr>\n",
       "      <th>3</th>\n",
       "      <td>20200327</td>\n",
       "      <td>105462</td>\n",
       "    </tr>\n",
       "    <tr>\n",
       "      <th>4</th>\n",
       "      <td>20200331</td>\n",
       "      <td>189998</td>\n",
       "    </tr>\n",
       "    <tr>\n",
       "      <th>5</th>\n",
       "      <td>20200416</td>\n",
       "      <td>664129</td>\n",
       "    </tr>\n",
       "    <tr>\n",
       "      <th>6</th>\n",
       "      <td>20200508</td>\n",
       "      <td>1275916</td>\n",
       "    </tr>\n",
       "  </tbody>\n",
       "</table>\n",
       "</div>"
      ],
      "text/plain": [
       "       Date    Total\n",
       "0  20200131        1\n",
       "1  20200313     3004\n",
       "2  20200323    47013\n",
       "3  20200327   105462\n",
       "4  20200331   189998\n",
       "5  20200416   664129\n",
       "6  20200508  1275916"
      ]
     },
     "execution_count": 21,
     "metadata": {},
     "output_type": "execute_result"
    }
   ],
   "source": [
    "cov_df = pd.DataFrame({\"Date\": dates, \"Total\": total})\n",
    "cov_df"
   ]
  },
  {
   "cell_type": "code",
   "execution_count": 22,
   "metadata": {},
   "outputs": [
    {
     "data": {
      "image/png": "[encoded data removed]",
      "text/plain": [
       "<Figure size 432x288 with 1 Axes>"
      ]
     },
     "metadata": {
      "needs_background": "light"
     },
     "output_type": "display_data"
    }
   ],
   "source": [
    "plt.plot(cov_df[\"Date\"], cov_df[\"Total\"])\n",
    "plt.xticks()\n",
    "plt.show()"
   ]
  },
  {
   "cell_type": "code",
   "execution_count": 35,
   "metadata": {},
   "outputs": [
    {
     "name": "stdout",
     "output_type": "stream",
     "text": [
      "                       Company Headquarter\n",
      "0                      Netflix          CA\n",
      "1          Activision Blizzard          CA\n",
      "2                     Cinemark          TX\n",
      "3    Live Nation Entertainment          CA\n",
      "4                       Amazon          WA\n",
      "5                         Ebay          CA\n",
      "6                      TJ Maxx          MA\n",
      "7                     Big Lots          OH\n",
      "8                       Macy's          NY\n",
      "9                       Kroger          OH\n",
      "10               Campbell Soup          NJ\n",
      "11                  McDonald’s          IL\n",
      "12    J Alexanders Holding Inc          TN\n",
      "13               Extended Stay          NC\n",
      "14             United Airlines          IL\n",
      "15  Marriott International Inc          MD\n",
      "16       Clearwater Paper Corp          WA\n",
      "17                      Clorox          CA\n",
      "18                    T-mobile          WA\n",
      "19                   Microsoft          WA\n"
     ]
    }
   ],
   "source": [
    "headquarter=[]\n",
    "name_compnay = [\n",
    "    \"Netflix\", \"Activision Blizzard\", \"Cinemark\", \"Live Nation Entertainment\", \"Amazon\", \"Ebay\", \"TJ Maxx\", \"Big Lots\", \"Macy's\",\n",
    "    \"Kroger\", \"Campbell Soup\", \"McDonald’s\", \"J Alexanders Holding Inc\", \"Extended Stay\", \"United Airlines\", \"Marriott International Inc\",\n",
    "    \"Clearwater Paper Corp\", \"Clorox\", \"T-mobile\", \"Microsoft\"\n",
    "]\n",
    "stocks = [\n",
    "    \"NFLX\", \"ATVI\", \"CNK\", \"LYV\", \"AMZN\", \"EBAY\", \"TJX\" , \"BIG\", \"M\", \"KR\", \"CPB\", \n",
    "    \"MCD\", \"JAX\", \"STAY\", \"UAL\", \"MAR\", \"CLW\", \"CLX\", \"TMUS\", \"MSFT\"\n",
    "]\n",
    "\n",
    "url_state = \"https://apidojo-yahoo-finance-v1.p.rapidapi.com/stock/v2/get-profile\"\n",
    "\n",
    "for stock in stocks:\n",
    "    querystring = {\"symbol\":stock}\n",
    "\n",
    "    headers = {\n",
    "        'x-rapidapi-host': \"apidojo-yahoo-finance-v1.p.rapidapi.com\",\n",
    "        'x-rapidapi-key': api_key\n",
    "        }\n",
    "\n",
    "    response_profile = requests.request(\"GET\", url_state, headers=headers, params=querystring).json()\n",
    "\n",
    "    headquarter_state = response_profile[\"assetProfile\"][\"state\"]\n",
    "\n",
    "    headquarter.append(headquarter_state)\n",
    "\n",
    "assert len(headquarter)==len(stocks)\n",
    "\n",
    "headquarter_df = pd.DataFrame({\"Company\": name_compnay, \"Headquarter\": headquarter})\n",
    "print(headquarter_df)"
   ]
  },
  {
   "cell_type": "code",
   "execution_count": 36,
   "metadata": {},
   "outputs": [
    {
     "data": {
      "text/html": [
       "<div>\n",
       "<style scoped>\n",
       "    .dataframe tbody tr th:only-of-type {\n",
       "        vertical-align: middle;\n",
       "    }\n",
       "\n",
       "    .dataframe tbody tr th {\n",
       "        vertical-align: top;\n",
       "    }\n",
       "\n",
       "    .dataframe thead tr th {\n",
       "        text-align: left;\n",
       "    }\n",
       "</style>\n",
       "<table border=\"1\" class=\"dataframe\">\n",
       "  <thead>\n",
       "    <tr>\n",
       "      <th>Headquarter</th>\n",
       "      <th>MD</th>\n",
       "      <th>NC</th>\n",
       "      <th>TN</th>\n",
       "      <th>IL</th>\n",
       "      <th>NJ</th>\n",
       "      <th>NY</th>\n",
       "      <th>OH</th>\n",
       "      <th>MA</th>\n",
       "      <th>WA</th>\n",
       "      <th>TX</th>\n",
       "      <th>CA</th>\n",
       "    </tr>\n",
       "    <tr>\n",
       "      <th>Company</th>\n",
       "      <th>Marriott International Inc</th>\n",
       "      <th>Extended Stay</th>\n",
       "      <th>J Alexanders Holding Inc</th>\n",
       "      <th>McDonald’s,United Airlines</th>\n",
       "      <th>Campbell Soup</th>\n",
       "      <th>Macy's</th>\n",
       "      <th>Big Lots,Kroger</th>\n",
       "      <th>TJ Maxx</th>\n",
       "      <th>Amazon,Clearwater Paper Corp,T-mobile,Microsoft</th>\n",
       "      <th>Cinemark</th>\n",
       "      <th>Netflix,Activision Blizzard,Live Nation Entertainment,Ebay,Clorox</th>\n",
       "    </tr>\n",
       "  </thead>\n",
       "  <tbody>\n",
       "  </tbody>\n",
       "</table>\n",
       "</div>"
      ],
      "text/plain": [
       "Empty DataFrame\n",
       "Columns: [(MD, Marriott International Inc), (NC, Extended Stay), (TN, J Alexanders Holding Inc), (IL, McDonald’s,United Airlines), (NJ, Campbell Soup), (NY, Macy's), (OH, Big Lots,Kroger), (MA, TJ Maxx), (WA, Amazon,Clearwater Paper Corp,T-mobile,Microsoft), (TX, Cinemark), (CA, Netflix,Activision Blizzard,Live Nation Entertainment,Ebay,Clorox)]\n",
       "Index: []"
      ]
     },
     "execution_count": 36,
     "metadata": {},
     "output_type": "execute_result"
    }
   ],
   "source": [
    "headquarter_df[\"Company\"]=headquarter_df.groupby([\"Headquarter\"])[\"Company\"].transform(lambda x: ','.join(x))\n",
    "headquarter_unique_df = headquarter_df.drop_duplicates()\n",
    "reset_headquarter = headquarter_unique_df.reset_index()\n",
    "\n",
    "reset_headquarter = reset_headquarter.iloc[:,1:3]\n",
    "reset_headquarter = reset_headquarter.sort_index(ascending=False)\n",
    "\n",
    "headquarter_setindex = reset_headquarter.set_index([\"Headquarter\", \"Company\"])\n",
    "\n",
    "headquarter_transposed = headquarter_setindex.T\n",
    "headquarter_transposed\n"
   ]
  },
  {
   "cell_type": "code",
   "execution_count": 37,
   "metadata": {},
   "outputs": [
    {
     "data": {
      "text/plain": [
       "202"
      ]
     },
     "execution_count": 37,
     "metadata": {},
     "output_type": "execute_result"
    }
   ],
   "source": [
    "state_date = f\"/api/v1/states/CA/20200313.json\"\n",
    "response_current = requests.get(url_cov+state_date).json()\n",
    "total_positive_per_date = response_current[\"positive\"]\n",
    "total_positive_per_date"
   ]
  },
  {
   "cell_type": "code",
   "execution_count": 41,
   "metadata": {},
   "outputs": [
    {
     "name": "stdout",
     "output_type": "stream",
     "text": [
      "['20200313', '20200323', '20200327', '20200331', '20200416', '20200508']\n"
     ]
    }
   ],
   "source": [
    "headquarter_unique = headquarter_df[\"Headquarter\"].unique()\n",
    "headquarter_unique\n",
    "\n",
    "dates.remove(\"20200131\")\n",
    "print(dates)\n"
   ]
  },
  {
   "cell_type": "code",
   "execution_count": 42,
   "metadata": {},
   "outputs": [
    {
     "name": "stdout",
     "output_type": "stream",
     "text": [
      "             MD     NC     TN     IL      NJ      NY     OH     MA     WA  \\\n",
      "Date                                                                        \n",
      "20200313     17     15     26     32      50     421     13     23    702   \n",
      "20200323    288    297    615   1273    2844   20875    442    678   2496   \n",
      "20200327    774    763   1203   3026    8825   44635   1137   3151   4305   \n",
      "20200331   1660   1498   2239   5994   18696   75795   2199   6521   6049   \n",
      "20200416  10784   5465   6262  25733   75317  222284   8414  32492  11343   \n",
      "20200508  30485  13868  14441  73760  135454  330407  23016  75333  16231   \n",
      "\n",
      "             TX     CA  \n",
      "Date                    \n",
      "20200313     39    202  \n",
      "20200323    352   1733  \n",
      "20200327   1731   3879  \n",
      "20200331   3266   7482  \n",
      "20200416  16455  26182  \n",
      "20200508  36609  62512  \n"
     ]
    }
   ],
   "source": [
    "merge_df = pd.DataFrame(columns = [\"Date\"])\n",
    "for state in headquarter_unique:\n",
    "    cov_per_date = []\n",
    "    date_per_state = []\n",
    "    for date in dates:\n",
    "\n",
    "        state_date = f\"/api/v1/states/{state}/{date}.json\"\n",
    "        response_current = requests.get(url_cov+state_date).json()\n",
    "        total_positive_per_date = response_current[\"positive\"]\n",
    "        cov_per_date.append(total_positive_per_date)\n",
    "        date_per_state.append(date)\n",
    "    date_covnumber_df = pd.DataFrame({\"Date\":date_per_state, f\"{state}\": cov_per_date})\n",
    "    merge_df = pd.merge(date_covnumber_df, merge_df, how = \"outer\", on = \"Date\" )\n",
    "\n",
    "merge_index = merge_df.set_index([\"Date\"])\n",
    "print(merge_index)"
   ]
  },
  {
   "cell_type": "code",
   "execution_count": 43,
   "metadata": {},
   "outputs": [
    {
     "data": {
      "image/png": "[encoded data removed]",
      "text/plain": [
       "<Figure size 720x720 with 1 Axes>"
      ]
     },
     "metadata": {
      "needs_background": "light"
     },
     "output_type": "display_data"
    }
   ],
   "source": [
    "merge_index.plot(kind = \"line\", figsize = (10,10))\n",
    "plt.legend(headquarter_transposed)\n",
    "plt.ylabel(\"Positive Cases\")\n",
    "plt.show()"
   ]
  },
  {
   "cell_type": "code",
   "execution_count": 44,
   "metadata": {},
   "outputs": [],
   "source": [
    "gmaps.configure(api_key = gkey)"
   ]
  },
  {
   "cell_type": "code",
   "execution_count": 45,
   "metadata": {},
   "outputs": [
    {
     "data": {
      "text/html": [
       "<div>\n",
       "<style scoped>\n",
       "    .dataframe tbody tr th:only-of-type {\n",
       "        vertical-align: middle;\n",
       "    }\n",
       "\n",
       "    .dataframe tbody tr th {\n",
       "        vertical-align: top;\n",
       "    }\n",
       "\n",
       "    .dataframe thead th {\n",
       "        text-align: right;\n",
       "    }\n",
       "</style>\n",
       "<table border=\"1\" class=\"dataframe\">\n",
       "  <thead>\n",
       "    <tr style=\"text-align: right;\">\n",
       "      <th></th>\n",
       "      <th>State</th>\n",
       "      <th>Lat</th>\n",
       "      <th>Lng</th>\n",
       "    </tr>\n",
       "  </thead>\n",
       "  <tbody>\n",
       "    <tr>\n",
       "      <th>0</th>\n",
       "      <td>CA</td>\n",
       "      <td>36.778261</td>\n",
       "      <td>-119.417932</td>\n",
       "    </tr>\n",
       "    <tr>\n",
       "      <th>1</th>\n",
       "      <td>TX</td>\n",
       "      <td>31.968599</td>\n",
       "      <td>-99.901813</td>\n",
       "    </tr>\n",
       "    <tr>\n",
       "      <th>2</th>\n",
       "      <td>WA</td>\n",
       "      <td>47.751074</td>\n",
       "      <td>-120.740139</td>\n",
       "    </tr>\n",
       "    <tr>\n",
       "      <th>3</th>\n",
       "      <td>MA</td>\n",
       "      <td>42.407211</td>\n",
       "      <td>-71.382437</td>\n",
       "    </tr>\n",
       "    <tr>\n",
       "      <th>4</th>\n",
       "      <td>OH</td>\n",
       "      <td>40.417287</td>\n",
       "      <td>-82.907123</td>\n",
       "    </tr>\n",
       "    <tr>\n",
       "      <th>5</th>\n",
       "      <td>NY</td>\n",
       "      <td>40.712775</td>\n",
       "      <td>-74.005973</td>\n",
       "    </tr>\n",
       "    <tr>\n",
       "      <th>6</th>\n",
       "      <td>NJ</td>\n",
       "      <td>40.058324</td>\n",
       "      <td>-74.405661</td>\n",
       "    </tr>\n",
       "    <tr>\n",
       "      <th>7</th>\n",
       "      <td>IL</td>\n",
       "      <td>40.633125</td>\n",
       "      <td>-89.398528</td>\n",
       "    </tr>\n",
       "    <tr>\n",
       "      <th>8</th>\n",
       "      <td>TN</td>\n",
       "      <td>35.517491</td>\n",
       "      <td>-86.580447</td>\n",
       "    </tr>\n",
       "    <tr>\n",
       "      <th>9</th>\n",
       "      <td>NC</td>\n",
       "      <td>35.759573</td>\n",
       "      <td>-79.019300</td>\n",
       "    </tr>\n",
       "    <tr>\n",
       "      <th>10</th>\n",
       "      <td>MD</td>\n",
       "      <td>39.045755</td>\n",
       "      <td>-76.641271</td>\n",
       "    </tr>\n",
       "  </tbody>\n",
       "</table>\n",
       "</div>"
      ],
      "text/plain": [
       "   State        Lat         Lng\n",
       "0     CA  36.778261 -119.417932\n",
       "1     TX  31.968599  -99.901813\n",
       "2     WA  47.751074 -120.740139\n",
       "3     MA  42.407211  -71.382437\n",
       "4     OH  40.417287  -82.907123\n",
       "5     NY  40.712775  -74.005973\n",
       "6     NJ  40.058324  -74.405661\n",
       "7     IL  40.633125  -89.398528\n",
       "8     TN  35.517491  -86.580447\n",
       "9     NC  35.759573  -79.019300\n",
       "10    MD  39.045755  -76.641271"
      ]
     },
     "execution_count": 45,
     "metadata": {},
     "output_type": "execute_result"
    }
   ],
   "source": [
    "params = {\"key\": gkey}\n",
    "headquarter_unique_df = headquarter_df[\"Headquarter\"].unique()\n",
    "state_pd = pd.DataFrame({\"State\": headquarter_unique_df})\n",
    "state_pd\n",
    "\n",
    "# Loop through the cities_pd and run a lat/long search for each city\n",
    "for index, row in state_pd.iterrows():\n",
    "    base_url = \"https://maps.googleapis.com/maps/api/geocode/json\"\n",
    "\n",
    "    state = row['State']\n",
    "\n",
    "    # update address key value\n",
    "    params['address'] = f\"{state}\"\n",
    "\n",
    "    # make request\n",
    "    state_lat_lng = requests.get(base_url, params=params)\n",
    "    \n",
    "    # print the cities_lat_lng url, avoid doing for public github repos in order to avoid exposing key\n",
    "    # print(cities_lat_lng.url)\n",
    "    \n",
    "    # convert to json\n",
    "    state_lat_lng = state_lat_lng.json()\n",
    "    \n",
    "#     pprint(state_lat_lng)\n",
    "    \n",
    "    state_pd.loc[index, \"Lat\"] = state_lat_lng[\"results\"][0][\"geometry\"][\"location\"][\"lat\"]\n",
    "    state_pd.loc[index, \"Lng\"] = state_lat_lng[\"results\"][0][\"geometry\"][\"location\"][\"lng\"]\n",
    "\n",
    "# Visualize to confirm lat lng appear\n",
    "state_pd"
   ]
  },
  {
   "cell_type": "code",
   "execution_count": 46,
   "metadata": {},
   "outputs": [
    {
     "data": {
      "text/html": [
       "<div>\n",
       "<style scoped>\n",
       "    .dataframe tbody tr th:only-of-type {\n",
       "        vertical-align: middle;\n",
       "    }\n",
       "\n",
       "    .dataframe tbody tr th {\n",
       "        vertical-align: top;\n",
       "    }\n",
       "\n",
       "    .dataframe thead th {\n",
       "        text-align: right;\n",
       "    }\n",
       "</style>\n",
       "<table border=\"1\" class=\"dataframe\">\n",
       "  <thead>\n",
       "    <tr style=\"text-align: right;\">\n",
       "      <th></th>\n",
       "      <th>State</th>\n",
       "      <th>Lat</th>\n",
       "      <th>Lng</th>\n",
       "      <th>20200313</th>\n",
       "      <th>20200323</th>\n",
       "      <th>20200327</th>\n",
       "      <th>20200331</th>\n",
       "      <th>20200416</th>\n",
       "      <th>20200508</th>\n",
       "    </tr>\n",
       "  </thead>\n",
       "  <tbody>\n",
       "    <tr>\n",
       "      <th>0</th>\n",
       "      <td>CA</td>\n",
       "      <td>36.778261</td>\n",
       "      <td>-119.417932</td>\n",
       "      <td>202</td>\n",
       "      <td>1733</td>\n",
       "      <td>3879</td>\n",
       "      <td>7482</td>\n",
       "      <td>26182</td>\n",
       "      <td>62512</td>\n",
       "    </tr>\n",
       "    <tr>\n",
       "      <th>1</th>\n",
       "      <td>TX</td>\n",
       "      <td>31.968599</td>\n",
       "      <td>-99.901813</td>\n",
       "      <td>39</td>\n",
       "      <td>352</td>\n",
       "      <td>1731</td>\n",
       "      <td>3266</td>\n",
       "      <td>16455</td>\n",
       "      <td>36609</td>\n",
       "    </tr>\n",
       "    <tr>\n",
       "      <th>2</th>\n",
       "      <td>WA</td>\n",
       "      <td>47.751074</td>\n",
       "      <td>-120.740139</td>\n",
       "      <td>702</td>\n",
       "      <td>2496</td>\n",
       "      <td>4305</td>\n",
       "      <td>6049</td>\n",
       "      <td>11343</td>\n",
       "      <td>16231</td>\n",
       "    </tr>\n",
       "    <tr>\n",
       "      <th>3</th>\n",
       "      <td>MA</td>\n",
       "      <td>42.407211</td>\n",
       "      <td>-71.382437</td>\n",
       "      <td>23</td>\n",
       "      <td>678</td>\n",
       "      <td>3151</td>\n",
       "      <td>6521</td>\n",
       "      <td>32492</td>\n",
       "      <td>75333</td>\n",
       "    </tr>\n",
       "    <tr>\n",
       "      <th>4</th>\n",
       "      <td>OH</td>\n",
       "      <td>40.417287</td>\n",
       "      <td>-82.907123</td>\n",
       "      <td>13</td>\n",
       "      <td>442</td>\n",
       "      <td>1137</td>\n",
       "      <td>2199</td>\n",
       "      <td>8414</td>\n",
       "      <td>23016</td>\n",
       "    </tr>\n",
       "    <tr>\n",
       "      <th>5</th>\n",
       "      <td>NY</td>\n",
       "      <td>40.712775</td>\n",
       "      <td>-74.005973</td>\n",
       "      <td>421</td>\n",
       "      <td>20875</td>\n",
       "      <td>44635</td>\n",
       "      <td>75795</td>\n",
       "      <td>222284</td>\n",
       "      <td>330407</td>\n",
       "    </tr>\n",
       "    <tr>\n",
       "      <th>6</th>\n",
       "      <td>NJ</td>\n",
       "      <td>40.058324</td>\n",
       "      <td>-74.405661</td>\n",
       "      <td>50</td>\n",
       "      <td>2844</td>\n",
       "      <td>8825</td>\n",
       "      <td>18696</td>\n",
       "      <td>75317</td>\n",
       "      <td>135454</td>\n",
       "    </tr>\n",
       "    <tr>\n",
       "      <th>7</th>\n",
       "      <td>IL</td>\n",
       "      <td>40.633125</td>\n",
       "      <td>-89.398528</td>\n",
       "      <td>32</td>\n",
       "      <td>1273</td>\n",
       "      <td>3026</td>\n",
       "      <td>5994</td>\n",
       "      <td>25733</td>\n",
       "      <td>73760</td>\n",
       "    </tr>\n",
       "    <tr>\n",
       "      <th>8</th>\n",
       "      <td>TN</td>\n",
       "      <td>35.517491</td>\n",
       "      <td>-86.580447</td>\n",
       "      <td>26</td>\n",
       "      <td>615</td>\n",
       "      <td>1203</td>\n",
       "      <td>2239</td>\n",
       "      <td>6262</td>\n",
       "      <td>14441</td>\n",
       "    </tr>\n",
       "    <tr>\n",
       "      <th>9</th>\n",
       "      <td>NC</td>\n",
       "      <td>35.759573</td>\n",
       "      <td>-79.019300</td>\n",
       "      <td>15</td>\n",
       "      <td>297</td>\n",
       "      <td>763</td>\n",
       "      <td>1498</td>\n",
       "      <td>5465</td>\n",
       "      <td>13868</td>\n",
       "    </tr>\n",
       "    <tr>\n",
       "      <th>10</th>\n",
       "      <td>MD</td>\n",
       "      <td>39.045755</td>\n",
       "      <td>-76.641271</td>\n",
       "      <td>17</td>\n",
       "      <td>288</td>\n",
       "      <td>774</td>\n",
       "      <td>1660</td>\n",
       "      <td>10784</td>\n",
       "      <td>30485</td>\n",
       "    </tr>\n",
       "  </tbody>\n",
       "</table>\n",
       "</div>"
      ],
      "text/plain": [
       "   State        Lat         Lng  20200313  20200323  20200327  20200331  \\\n",
       "0     CA  36.778261 -119.417932       202      1733      3879      7482   \n",
       "1     TX  31.968599  -99.901813        39       352      1731      3266   \n",
       "2     WA  47.751074 -120.740139       702      2496      4305      6049   \n",
       "3     MA  42.407211  -71.382437        23       678      3151      6521   \n",
       "4     OH  40.417287  -82.907123        13       442      1137      2199   \n",
       "5     NY  40.712775  -74.005973       421     20875     44635     75795   \n",
       "6     NJ  40.058324  -74.405661        50      2844      8825     18696   \n",
       "7     IL  40.633125  -89.398528        32      1273      3026      5994   \n",
       "8     TN  35.517491  -86.580447        26       615      1203      2239   \n",
       "9     NC  35.759573  -79.019300        15       297       763      1498   \n",
       "10    MD  39.045755  -76.641271        17       288       774      1660   \n",
       "\n",
       "    20200416  20200508  \n",
       "0      26182     62512  \n",
       "1      16455     36609  \n",
       "2      11343     16231  \n",
       "3      32492     75333  \n",
       "4       8414     23016  \n",
       "5     222284    330407  \n",
       "6      75317    135454  \n",
       "7      25733     73760  \n",
       "8       6262     14441  \n",
       "9       5465     13868  \n",
       "10     10784     30485  "
      ]
     },
     "execution_count": 46,
     "metadata": {},
     "output_type": "execute_result"
    }
   ],
   "source": [
    "state_transposed = merge_index.T\n",
    "state_transposed = state_transposed.reset_index()\n",
    "state_transposed = state_transposed.rename(columns = {\"index\": \"State\"})\n",
    "merged_state = pd.merge(state_pd, state_transposed, on = \"State\")\n",
    "merged_state"
   ]
  },
  {
   "cell_type": "code",
   "execution_count": 47,
   "metadata": {},
   "outputs": [],
   "source": [
    "location = merged_state[[\"Lat\", \"Lng\"]]\n",
    "rating = merged_state[\"20200508\"]"
   ]
  },
  {
   "cell_type": "code",
   "execution_count": 48,
   "metadata": {},
   "outputs": [
    {
     "data": {
      "application/vnd.jupyter.widget-view+json": {
       "model_id": "858cf620ff6440b7bcdb4d0d846cd4ca",
       "version_major": 2,
       "version_minor": 0
      },
      "text/plain": [
       "Figure(layout=FigureLayout(height='420px'))"
      ]
     },
     "metadata": {},
     "output_type": "display_data"
    }
   ],
   "source": [
    "fig = gmaps.figure()\n",
    "\n",
    "heat_layer = gmaps.heatmap_layer(\n",
    "    location,\n",
    "    weights = rating,\n",
    "    dissipating = True,\n",
    "    max_intensity = 20000\n",
    ")\n",
    "\n",
    "fig.add_layer(heat_layer)\n",
    "fig"
   ]
  },
  {
   "cell_type": "code",
   "execution_count": null,
   "metadata": {},
   "outputs": [],
   "source": []
  }
 ],
 "metadata": {
  "kernelspec": {
   "display_name": "Python 3",
   "language": "python",
   "name": "python3"
  },
  "language_info": {
   "codemirror_mode": {
    "name": "ipython",
    "version": 3
   },
   "file_extension": ".py",
   "mimetype": "text/x-python",
   "name": "python",
   "nbconvert_exporter": "python",
   "pygments_lexer": "ipython3",
   "version": "3.7.7"
  }
 },
 "nbformat": 4,
 "nbformat_minor": 4
}
